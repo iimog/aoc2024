{
 "cells": [
  {
   "cell_type": "code",
   "execution_count": 2,
   "id": "9a89e3b6-1d3c-4e5a-960a-80a3ec4f02e6",
   "metadata": {},
   "outputs": [
    {
     "data": {
      "text/plain": [
       "390"
      ]
     },
     "execution_count": 2,
     "metadata": {},
     "output_type": "execute_result"
    }
   ],
   "source": [
    "f(x) = x.*sign(x[1])\n",
    "g(x) = length(x ∪ [1, 2, 3]) == 3\n",
    "h(x) = parse.(Int, x)\n",
    "s(x) = split.(readlines(x))\n",
    "\n",
    "k = g ∘ f ∘ diff ∘ h\n",
    "sum([k(x) for x in s(\"input\")])"
   ]
  }
 ],
 "metadata": {
  "kernelspec": {
   "display_name": "Julia 1.10.4",
   "language": "julia",
   "name": "julia-1.10"
  },
  "language_info": {
   "file_extension": ".jl",
   "mimetype": "application/julia",
   "name": "julia",
   "version": "1.10.4"
  }
 },
 "nbformat": 4,
 "nbformat_minor": 5
}
