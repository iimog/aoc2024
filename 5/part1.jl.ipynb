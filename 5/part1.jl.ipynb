{
 "cells": [
  {
   "cell_type": "code",
   "execution_count": 3,
   "metadata": {},
   "outputs": [
    {
     "data": {
      "text/plain": [
       "28-element Vector{String}:\n",
       " \"47|53\"\n",
       " \"97|13\"\n",
       " \"97|61\"\n",
       " \"97|47\"\n",
       " \"75|29\"\n",
       " \"61|13\"\n",
       " \"75|53\"\n",
       " \"29|13\"\n",
       " \"97|29\"\n",
       " \"53|29\"\n",
       " \"61|53\"\n",
       " \"97|53\"\n",
       " \"61|29\"\n",
       " ⋮\n",
       " \"47|61\"\n",
       " \"75|61\"\n",
       " \"47|29\"\n",
       " \"75|13\"\n",
       " \"53|13\"\n",
       " \"\"\n",
       " \"75,47,61,53,29\"\n",
       " \"97,61,53,29,13\"\n",
       " \"75,29,13\"\n",
       " \"75,97,47,61,53\"\n",
       " \"61,13,29\"\n",
       " \"97,13,75,29,47\""
      ]
     },
     "execution_count": 3,
     "metadata": {},
     "output_type": "execute_result"
    }
   ],
   "source": [
    "lines = readlines(\"5/sample\")"
   ]
  },
  {
   "cell_type": "code",
   "execution_count": 10,
   "metadata": {},
   "outputs": [
    {
     "data": {
      "text/plain": [
       "22"
      ]
     },
     "execution_count": 10,
     "metadata": {},
     "output_type": "execute_result"
    }
   ],
   "source": [
    "split_index = indexin([\"\"], lines)[1]"
   ]
  },
  {
   "cell_type": "code",
   "execution_count": 16,
   "metadata": {},
   "outputs": [
    {
     "data": {
      "text/plain": [
       "2-element Vector{SubString{String}}:\n",
       " \"a\"\n",
       " \"b\""
      ]
     },
     "execution_count": 16,
     "metadata": {},
     "output_type": "execute_result"
    }
   ],
   "source": [
    "split(\"a|b\", \"|\")"
   ]
  },
  {
   "cell_type": "code",
   "execution_count": 21,
   "metadata": {},
   "outputs": [
    {
     "data": {
      "text/plain": [
       "21-element Vector{Vector{Int64}}:\n",
       " [47, 53]\n",
       " [97, 13]\n",
       " [97, 61]\n",
       " [97, 47]\n",
       " [75, 29]\n",
       " [61, 13]\n",
       " [75, 53]\n",
       " [29, 13]\n",
       " [97, 29]\n",
       " [53, 29]\n",
       " [61, 53]\n",
       " [97, 53]\n",
       " [61, 29]\n",
       " [47, 13]\n",
       " [75, 47]\n",
       " [97, 75]\n",
       " [47, 61]\n",
       " [75, 61]\n",
       " [47, 29]\n",
       " [75, 13]\n",
       " [53, 13]"
      ]
     },
     "execution_count": 21,
     "metadata": {},
     "output_type": "execute_result"
    }
   ],
   "source": [
    "rules = map(x->parse.(Int,split(x,\"|\")), lines[1:split_index-1])"
   ]
  },
  {
   "cell_type": "code",
   "execution_count": 28,
   "metadata": {},
   "outputs": [
    {
     "data": {
      "text/plain": [
       "6-element Vector{Vector{Int64}}:\n",
       " [75, 47, 61, 53, 29]\n",
       " [97, 61, 53, 29, 13]\n",
       " [75, 29, 13]\n",
       " [75, 97, 47, 61, 53]\n",
       " [61, 13, 29]\n",
       " [97, 13, 75, 29, 47]"
      ]
     },
     "execution_count": 28,
     "metadata": {},
     "output_type": "execute_result"
    }
   ],
   "source": [
    "pages = map(x->parse.(Int,split(x,\",\")), lines[split_index+1:end])"
   ]
  },
  {
   "cell_type": "code",
   "execution_count": 37,
   "metadata": {},
   "outputs": [
    {
     "data": {
      "text/plain": [
       "check_rules_for_page (generic function with 1 method)"
      ]
     },
     "execution_count": 37,
     "metadata": {},
     "output_type": "execute_result"
    }
   ],
   "source": [
    "function check_rules_for_page(page, rules)\n",
    "\tfor (a,b) in rules\n",
    "\t\tif a in page && b in page && findfirst(==(a), page) > findfirst(==(b), page)\n",
    "\t\t\treturn 0\n",
    "\t\tend\n",
    "\tend\n",
    "\treturn page[div(1+length(page),2)]\n",
    "end"
   ]
  },
  {
   "cell_type": "code",
   "execution_count": 38,
   "metadata": {},
   "outputs": [
    {
     "data": {
      "text/plain": [
       "61"
      ]
     },
     "execution_count": 38,
     "metadata": {},
     "output_type": "execute_result"
    }
   ],
   "source": [
    "check_rules_for_page(pages[1], rules)"
   ]
  },
  {
   "cell_type": "code",
   "execution_count": 43,
   "metadata": {},
   "outputs": [
    {
     "data": {
      "text/plain": [
       "143"
      ]
     },
     "execution_count": 43,
     "metadata": {},
     "output_type": "execute_result"
    }
   ],
   "source": [
    "check_rules_for_page.(pages, [rules]) |> sum"
   ]
  },
  {
   "cell_type": "code",
   "execution_count": 44,
   "metadata": {},
   "outputs": [
    {
     "data": {
      "text/plain": [
       "part1 (generic function with 1 method)"
      ]
     },
     "execution_count": 44,
     "metadata": {},
     "output_type": "execute_result"
    }
   ],
   "source": [
    "function part1(fname)\n",
    "\tlines = readlines(fname)\n",
    "\tsplit_index = indexin([\"\"], lines)[1]\n",
    "\trules = map(x->parse.(Int,split(x,\"|\")), lines[1:split_index-1])\n",
    "\tpages = map(x->parse.(Int,split(x,\",\")), lines[split_index+1:end])\n",
    "\treturn check_rules_for_page.(pages, [rules]) |> sum\n",
    "end"
   ]
  },
  {
   "cell_type": "code",
   "execution_count": 45,
   "metadata": {},
   "outputs": [
    {
     "data": {
      "text/plain": [
       "143"
      ]
     },
     "execution_count": 45,
     "metadata": {},
     "output_type": "execute_result"
    }
   ],
   "source": [
    "part1(\"5/sample\")"
   ]
  },
  {
   "cell_type": "code",
   "execution_count": 46,
   "metadata": {},
   "outputs": [
    {
     "data": {
      "text/plain": [
       "6505"
      ]
     },
     "execution_count": 46,
     "metadata": {},
     "output_type": "execute_result"
    }
   ],
   "source": [
    "part1(\"5/input\")"
   ]
  },
  {
   "cell_type": "code",
   "execution_count": 53,
   "metadata": {},
   "outputs": [
    {
     "data": {
      "text/plain": [
       "check_rules_for_page_part2 (generic function with 1 method)"
      ]
     },
     "execution_count": 53,
     "metadata": {},
     "output_type": "execute_result"
    }
   ],
   "source": [
    "function check_rules_for_page_part2(page, rules)\n",
    "\tfor (a,b) in rules\n",
    "\t\tif a in page && b in page && findfirst(==(a), page) > findfirst(==(b), page)\n",
    "\t\t\treturn fix_page_by_rules(page, rules)\n",
    "\t\tend\n",
    "\tend\n",
    "\treturn 0 # was correct before\n",
    "end"
   ]
  },
  {
   "cell_type": "code",
   "execution_count": 48,
   "metadata": {},
   "outputs": [
    {
     "data": {
      "text/plain": [
       "fix_page_by_rules (generic function with 1 method)"
      ]
     },
     "execution_count": 48,
     "metadata": {},
     "output_type": "execute_result"
    }
   ],
   "source": [
    "function fix_page_by_rules(page, rules)\n",
    "\tnew_page = copy(page)\n",
    "\tfor (a,b) in rules\n",
    "\t\tif a in page && b in page && findfirst(==(a), page) > findfirst(==(b), page)\n",
    "\t\t\tposa = findfirst(==(a), page)\n",
    "\t\t\tposb = findfirst(==(b), page)\n",
    "\t\t\tnew_page[posa] = page[posb]\n",
    "\t\t\tnew_page[posb] = page[posa]\n",
    "\t\t\tfixed = check_rules_for_page(new_page, rules)\n",
    "\t\t\tif fixed > 0\n",
    "\t\t\t\treturn fixed\n",
    "\t\t\telse\n",
    "\t\t\t\treturn fix_page_by_rules(new_page, rules)\n",
    "\t\t\tend\n",
    "\t\tend\n",
    "\tend\n",
    "\tthrow(\"Problem\")\n",
    "end"
   ]
  },
  {
   "cell_type": "code",
   "execution_count": 55,
   "metadata": {},
   "outputs": [
    {
     "data": {
      "text/plain": [
       "0"
      ]
     },
     "execution_count": 55,
     "metadata": {},
     "output_type": "execute_result"
    }
   ],
   "source": [
    "check_rules_for_page_part2(pages[1], rules)"
   ]
  },
  {
   "cell_type": "code",
   "execution_count": 56,
   "metadata": {},
   "outputs": [
    {
     "data": {
      "text/plain": [
       "part2 (generic function with 1 method)"
      ]
     },
     "execution_count": 56,
     "metadata": {},
     "output_type": "execute_result"
    }
   ],
   "source": [
    "function part2(fname)\n",
    "\tlines = readlines(fname)\n",
    "\tsplit_index = indexin([\"\"], lines)[1]\n",
    "\trules = map(x->parse.(Int,split(x,\"|\")), lines[1:split_index-1])\n",
    "\tpages = map(x->parse.(Int,split(x,\",\")), lines[split_index+1:end])\n",
    "\treturn check_rules_for_page_part2.(pages, [rules]) |> sum\n",
    "end"
   ]
  },
  {
   "cell_type": "code",
   "execution_count": 59,
   "metadata": {},
   "outputs": [
    {
     "data": {
      "text/plain": [
       "6897"
      ]
     },
     "execution_count": 59,
     "metadata": {},
     "output_type": "execute_result"
    }
   ],
   "source": [
    "part2(\"5/input\")"
   ]
  }
 ],
 "metadata": {
  "kernelspec": {
   "display_name": "Julia 1.11.4",
   "language": "julia",
   "name": "julia-1.11"
  },
  "language_info": {
   "file_extension": ".jl",
   "mimetype": "application/julia",
   "name": "julia",
   "version": "1.11.4"
  }
 },
 "nbformat": 4,
 "nbformat_minor": 2
}
